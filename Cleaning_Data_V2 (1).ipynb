{
  "cells": [
    {
      "cell_type": "markdown",
      "source": [
        "# **Import Library**"
      ],
      "metadata": {
        "id": "-UiJqMcIJ2rF"
      }
    },
    {
      "cell_type": "code",
      "source": [
        "import pandas as pd\n",
        "import numpy as np\n",
        "from sklearn.preprocessing import MinMaxScaler"
      ],
      "metadata": {
        "id": "t6dqcQDdJ6x8"
      },
      "execution_count": 1,
      "outputs": []
    },
    {
      "cell_type": "markdown",
      "source": [
        "# **Load data**"
      ],
      "metadata": {
        "id": "Oq6Fi7wqKChB"
      }
    },
    {
      "cell_type": "code",
      "source": [
        "provinsi_df = pd.read_csv('provinsi.csv')\n",
        "kabupaten_df = pd.read_csv('kabupaten.csv')\n",
        "makanan_khas_df = pd.read_csv('makanan_khas.csv')\n",
        "image_link_df = pd.read_csv('image_link.csv')\n",
        "restaurant_df = pd.read_csv('restaurant.csv')\n",
        "reting_df = pd.read_csv('reting.csv')"
      ],
      "metadata": {
        "id": "2YRy-9R_KFm6"
      },
      "execution_count": 2,
      "outputs": []
    },
    {
      "cell_type": "markdown",
      "source": [
        "# **Pemeriksaan Awal Data**"
      ],
      "metadata": {
        "id": "cs0ybpwkKImg"
      }
    },
    {
      "cell_type": "code",
      "source": [
        "print(provinsi_df.head())\n",
        "print(kabupaten_df.head())\n",
        "print(makanan_khas_df.head())\n",
        "print(image_link_df.head())\n",
        "print(restaurant_df.head())\n",
        "print(reting_df.head())"
      ],
      "metadata": {
        "colab": {
          "base_uri": "https://localhost:8080/"
        },
        "id": "TC2egbNSKQkt",
        "outputId": "426b907a-8223-4b2b-c803-1ca43d5f5df9"
      },
      "execution_count": 3,
      "outputs": [
        {
          "output_type": "stream",
          "name": "stdout",
          "text": [
            "   id_provinsi   nama_provinsi\n",
            "0           11            ACEH\n",
            "1           12  SUMATERA UTARA\n",
            "2           13  SUMATERA BARAT\n",
            "3           14            RIAU\n",
            "4           15           JAMBI\n",
            "   id_kabupaten  id_provinsi           nama_kabupaten\n",
            "0          1101           11       KABUPATEN SIMEULUE\n",
            "1          1102           11   KABUPATEN ACEH SINGKIL\n",
            "2          1103           11   KABUPATEN ACEH SELATAN\n",
            "3          1104           11  KABUPATEN ACEH TENGGARA\n",
            "4          1105           11     KABUPATEN ACEH TIMUR\n",
            "   id_makanan       makanan_khas  \\\n",
            "0           1       Sate Bandeng   \n",
            "1           2              Rabeg   \n",
            "2           3         Gerem Asem   \n",
            "3           4       Ketan Bintul   \n",
            "4           5  Nasi Bakar Sumsum   \n",
            "\n",
            "                                           deskripsi  \n",
            "0  Sate yang terbuat dari ikan bandeng, santan, d...  \n",
            "1  Makanan yang bahan dasarnya daging dan jeroan ...  \n",
            "2                 Masakan dengan rasa asam yang khas  \n",
            "3  Makanan dari beras ketan yang dibumbui dan dib...  \n",
            "4                    Nasi yang dibakar dengan sumsum  \n",
            "                            id_makanan,\"image_link\";\n",
            "0  1,\"https://images.app.goo.gl/pGZeWe559XyGbMqD6\" ;\n",
            "1   2,\"https://images.app.goo.gl/kwBpGWcqmh5PeeGG8\";\n",
            "2  3,\"https://images.app.goo.gl/ApzSLFHboNyStntc9 \";\n",
            "3  4,\"https://images.app.goo.gl/vqbP132yoDmFtocj9 \";\n",
            "4   5,\"https://images.app.goo.gl/7jUR1ptRfVXrVqGY6\";\n",
            "   id_restaurant  id_reting  id_makanan  id_provinsi  id_kabupaten  \\\n",
            "0              1          1           1           36          3673   \n",
            "1              2          2           1           36          3673   \n",
            "2              3          3           1           36          3673   \n",
            "3              4          4           2           36          3673   \n",
            "4              5          5           2           36          3673   \n",
            "\n",
            "                               nama_tempat  \\\n",
            "0           Sate Bandeng Ibu Amenah Serang   \n",
            "1  Sate Bandeng - Bekakak Ayam Hj. Mariyam   \n",
            "2                  Sate Bandeng Ibu Aliyah   \n",
            "3   Rabeg Khas Serang H. Naswi (Magersari)   \n",
            "4      Warung Dahar Rabeg Khas Wong Banten   \n",
            "\n",
            "                                              alamat        long       lat  \n",
            "0  Jl. Sayabulu km 1, Lingk No.11, RT.2/RW.1, Dal...  106.149564 -6.143376  \n",
            "1  Tengah, Jl. Ki Uju No.63, RT.003/RW.002, Tenga...  106.150161 -6.120695  \n",
            "2  Jl. Lopang Gede III, Lopang, Kec. Serang, Kota...  106.157729 -6.106640  \n",
            "3  Jl. Mayor Safei No.30, Kotabaru, Kec. Serang, ...  106.152353 -6.112720  \n",
            "4  Jalan Ayip Usman, Link. Cikepuh, Unyur, Kec. S...  106.170051 -6.105310  \n",
            "   id_reting  nilai  jumlah_reting\n",
            "0          1      5            228\n",
            "1          2      5            642\n",
            "2          3      4            952\n",
            "3          4      4           1006\n",
            "4          5      4            220\n"
          ]
        }
      ]
    },
    {
      "cell_type": "markdown",
      "source": [
        "# **Penanganan Data yang Hilang**"
      ],
      "metadata": {
        "id": "QOpZYL0gOizL"
      }
    },
    {
      "cell_type": "code",
      "source": [
        "# Mengisi nilai yang hilang untuk kolom numerik dengan median\n",
        "for df in [provinsi_df, kabupaten_df, makanan_khas_df, image_link_df, restaurant_df, reting_df]:\n",
        "    numeric_cols = df.select_dtypes(include=[np.number]).columns\n",
        "    df[numeric_cols] = df[numeric_cols].apply(lambda x: x.fillna(x.median()), axis=0)\n",
        "\n",
        "# Mengisi nilai yang hilang untuk kolom non-numerik dengan modus\n",
        "for df in [provinsi_df, kabupaten_df, makanan_khas_df, image_link_df, restaurant_df, reting_df]:\n",
        "    non_numeric_cols = df.select_dtypes(exclude=[np.number]).columns\n",
        "    df[non_numeric_cols] = df[non_numeric_cols].apply(lambda x: x.fillna(x.mode()[0]), axis=0)"
      ],
      "metadata": {
        "id": "84QgduRhOl4F"
      },
      "execution_count": 4,
      "outputs": []
    },
    {
      "cell_type": "markdown",
      "source": [
        "# **Penghapusan Data Duplikat**"
      ],
      "metadata": {
        "id": "vSquy0INQzU3"
      }
    },
    {
      "cell_type": "code",
      "source": [
        "provinsi_df.drop_duplicates(inplace=True)\n",
        "kabupaten_df.drop_duplicates(inplace=True)\n",
        "makanan_khas_df.drop_duplicates(inplace=True)\n",
        "image_link_df.drop_duplicates(inplace=True)\n",
        "restaurant_df.drop_duplicates(inplace=True)\n",
        "reting_df.drop_duplicates(inplace=True)"
      ],
      "metadata": {
        "id": "shcgEv80PpPh"
      },
      "execution_count": 5,
      "outputs": []
    },
    {
      "cell_type": "markdown",
      "source": [
        "# **Konversi Tipe Data**"
      ],
      "metadata": {
        "id": "gpP5S7AXQ36T"
      }
    },
    {
      "cell_type": "code",
      "source": [
        "restaurant_df['long'] = restaurant_df['long'].astype(float)\n",
        "restaurant_df['lat'] = restaurant_df['lat'].astype(float)\n",
        "reting_df['nilai'] = reting_df['nilai'].astype(float)\n",
        "reting_df['jumlah_reting'] = reting_df['jumlah_reting'].astype(int)"
      ],
      "metadata": {
        "id": "y10MTp7PPsEJ"
      },
      "execution_count": 6,
      "outputs": []
    },
    {
      "cell_type": "markdown",
      "source": [
        "# **Merge Data**"
      ],
      "metadata": {
        "id": "I7QJe68ZT9Mo"
      }
    },
    {
      "cell_type": "code",
      "source": [
        "# Gabungkan restaurant dengan reting\n",
        "restaurant_reting_df = pd.merge(restaurant_df, reting_df, on='id_reting', how='left')\n",
        "\n",
        "# Gabungkan restaurant_reting dengan makanan_khas\n",
        "restaurant_makanan_df = pd.merge(restaurant_reting_df, makanan_khas_df, on='id_makanan', how='left')\n",
        "\n",
        "# Gabungkan restaurant_makanan dengan provinsi\n",
        "restaurant_makanan_provinsi_df = pd.merge(restaurant_makanan_df, provinsi_df, on='id_provinsi', how='left')\n",
        "\n",
        "# Gabungkan restaurant_makanan_provinsi dengan kabupaten\n",
        "final_df = pd.merge(restaurant_makanan_provinsi_df, kabupaten_df, on=['id_kabupaten', 'id_provinsi'], how='left')"
      ],
      "metadata": {
        "id": "eh9R_NxgTsDE"
      },
      "execution_count": 9,
      "outputs": []
    },
    {
      "cell_type": "code",
      "source": [
        "print(final_df.columns)"
      ],
      "metadata": {
        "colab": {
          "base_uri": "https://localhost:8080/"
        },
        "id": "qc1YDyRqT5Oa",
        "outputId": "58e18edc-1c87-4f25-d8ef-3e8c597ea8d4"
      },
      "execution_count": 10,
      "outputs": [
        {
          "output_type": "stream",
          "name": "stdout",
          "text": [
            "Index(['id_restaurant', 'id_reting', 'id_makanan', 'id_provinsi',\n",
            "       'id_kabupaten', 'nama_tempat', 'alamat', 'long', 'lat', 'nilai',\n",
            "       'jumlah_reting', 'makanan_khas', 'deskripsi', 'nama_provinsi',\n",
            "       'nama_kabupaten'],\n",
            "      dtype='object')\n"
          ]
        }
      ]
    },
    {
      "cell_type": "markdown",
      "source": [
        "# **Normalisasi Nilai Numerik**"
      ],
      "metadata": {
        "id": "DqYmSe8pQ5-v"
      }
    },
    {
      "cell_type": "code",
      "source": [
        "# Pilih kolom numerik yang ingin dinormalisasi\n",
        "numerical_cols = ['nilai', 'jumlah_reting', 'long', 'lat']\n",
        "\n",
        "# Inisialisasi MinMaxScaler\n",
        "scaler = MinMaxScaler()\n",
        "\n",
        "# Normalisasi kolom numerik\n",
        "final_df[numerical_cols] = scaler.fit_transform(final_df[numerical_cols])\n",
        "\n",
        "print(final_df.head())"
      ],
      "metadata": {
        "colab": {
          "base_uri": "https://localhost:8080/"
        },
        "id": "Mt11t5ktPv0S",
        "outputId": "24e81c72-2bac-47b3-8876-04f4f1eb6010"
      },
      "execution_count": 11,
      "outputs": [
        {
          "output_type": "stream",
          "name": "stdout",
          "text": [
            "   id_restaurant  id_reting  id_makanan  id_provinsi  id_kabupaten  \\\n",
            "0              1          1           1           36          3673   \n",
            "1              2          2           1           36          3673   \n",
            "2              3          3           1           36          3673   \n",
            "3              4          4           2           36          3673   \n",
            "4              5          5           2           36          3673   \n",
            "\n",
            "                               nama_tempat  \\\n",
            "0           Sate Bandeng Ibu Amenah Serang   \n",
            "1  Sate Bandeng - Bekakak Ayam Hj. Mariyam   \n",
            "2                  Sate Bandeng Ibu Aliyah   \n",
            "3   Rabeg Khas Serang H. Naswi (Magersari)   \n",
            "4      Warung Dahar Rabeg Khas Wong Banten   \n",
            "\n",
            "                                              alamat      long       lat  \\\n",
            "0  Jl. Sayabulu km 1, Lingk No.11, RT.2/RW.1, Dal...  0.945093  0.015711   \n",
            "1  Tengah, Jl. Ki Uju No.63, RT.003/RW.002, Tenga...  0.945098  0.015903   \n",
            "2  Jl. Lopang Gede III, Lopang, Kec. Serang, Kota...  0.945161  0.016022   \n",
            "3  Jl. Mayor Safei No.30, Kotabaru, Kec. Serang, ...  0.945116  0.015970   \n",
            "4  Jalan Ayip Usman, Link. Cikepuh, Unyur, Kec. S...  0.945263  0.016033   \n",
            "\n",
            "   nilai  jumlah_reting  makanan_khas  \\\n",
            "0    1.0       0.008183  Sate Bandeng   \n",
            "1    1.0       0.023043  Sate Bandeng   \n",
            "2    0.8       0.034170  Sate Bandeng   \n",
            "3    0.8       0.036108         Rabeg   \n",
            "4    0.8       0.007896         Rabeg   \n",
            "\n",
            "                                           deskripsi nama_provinsi  \\\n",
            "0  Sate yang terbuat dari ikan bandeng, santan, d...        BANTEN   \n",
            "1  Sate yang terbuat dari ikan bandeng, santan, d...        BANTEN   \n",
            "2  Sate yang terbuat dari ikan bandeng, santan, d...        BANTEN   \n",
            "3  Makanan yang bahan dasarnya daging dan jeroan ...        BANTEN   \n",
            "4  Makanan yang bahan dasarnya daging dan jeroan ...        BANTEN   \n",
            "\n",
            "  nama_kabupaten  \n",
            "0    KOTA SERANG  \n",
            "1    KOTA SERANG  \n",
            "2    KOTA SERANG  \n",
            "3    KOTA SERANG  \n",
            "4    KOTA SERANG  \n"
          ]
        }
      ]
    },
    {
      "cell_type": "markdown",
      "source": [
        "# **Select Fitur**"
      ],
      "metadata": {
        "id": "KkXaWzCyREok"
      }
    },
    {
      "cell_type": "code",
      "source": [
        "selected_features = ['id_restaurant', 'id_makanan', 'id_provinsi', 'id_kabupaten', 'nama_tempat', 'alamat',\n",
        "                    'long', 'lat', 'nilai', 'jumlah_reting', 'makanan_khas', 'deskripsi']\n",
        "final_df = final_df[selected_features]"
      ],
      "metadata": {
        "id": "TBWHZ7WFP2Vt"
      },
      "execution_count": 12,
      "outputs": []
    },
    {
      "cell_type": "markdown",
      "source": [
        "# **Save Data**"
      ],
      "metadata": {
        "id": "L9erZ5_mRHfF"
      }
    },
    {
      "cell_type": "code",
      "source": [
        "final_df.to_csv('final_cleaned_normalized_data.csv', index=False)"
      ],
      "metadata": {
        "id": "3tQlggXkQtEt"
      },
      "execution_count": 13,
      "outputs": []
    }
  ],
  "metadata": {
    "colab": {
      "provenance": []
    },
    "kernelspec": {
      "display_name": "Python 3",
      "name": "python3"
    }
  },
  "nbformat": 4,
  "nbformat_minor": 0
}